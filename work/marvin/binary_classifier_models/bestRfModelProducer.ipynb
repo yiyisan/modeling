{
 "cells": [
  {
   "cell_type": "code",
   "execution_count": null,
   "metadata": {
    "collapsed": true
   },
   "outputs": [],
   "source": [
    "# <api>\n",
    "import math\n",
    "import numpy as np\n",
    "from sklearn.ensemble import RandomForestClassifier\n",
    "\n",
    "from sklearn.grid_search import GridSearchCV  # Perforing grid search\n",
    "\n",
    "import sklearn.metrics as metrics\n",
    "import work.marvin.binary_classifier_models.modelfit as modelfit\n",
    "\n",
    "import logging\n",
    "logger = logging.getLogger(__name__)"
   ]
  },
  {
   "cell_type": "code",
   "execution_count": null,
   "metadata": {
    "collapsed": true
   },
   "outputs": [],
   "source": [
    "# <api>\n",
    "# 强制要求最后一列是classfication label\n",
    "def bestModelProducer(df, target, datamapper, fig_path):\n",
    "\n",
    "    \"\"\"\n",
    "    # auto rf model generation, 3 steps:\n",
    "    1. estimate optimal model parameters space for gridsearch,\n",
    "    depends on sample size and feature size\n",
    "    2. run gridsearch to find best parameter set\n",
    "    3. train the best rf model using the best parameter set\n",
    "    \"\"\"\n",
    "    traindf, testdf = modelfit.prepareDataforTraining(df, datamapper)\n",
    "    train_array = datamapper.transform(traindf)\n",
    "    train = train_array[:, :-1]\n",
    "    # estimate optimal parameters grid space\n",
    "    param_grid = parameterGridInitialization(train)\n",
    "    bestModel, accuracy, auc, cv_score = produceBestRFmodel(traindf, testdf,\n",
    "                                                            datamapper,\n",
    "                                                            param_grid, fig_path)\n",
    "    return bestModel, traindf, testdf, accuracy, auc, cv_score\n",
    "\n",
    "\n",
    "def initializationGridSearch(df, datamapper):\n",
    "    traindf, testdf = modelfit.prepareDataforTraining(df, datamapper)\n",
    "    train_array = datamapper.transform(traindf)\n",
    "    train = train_array[:, :-1]\n",
    "    # estimate optimal parameters grid space\n",
    "    param_grid1, param_grid2 = parameterGridInitialization(train)\n",
    "    return traindf, testdf, param_grid1, param_grid2"
   ]
  },
  {
   "cell_type": "markdown",
   "metadata": {},
   "source": [
    "## Parameters Initialization "
   ]
  },
  {
   "cell_type": "code",
   "execution_count": null,
   "metadata": {
    "collapsed": true
   },
   "outputs": [],
   "source": [
    "# <api>\n",
    "def max_feature_space(feature_size):\n",
    "    fs_sqrt = math.sqrt(feature_size)\n",
    "    if fs_sqrt > 10:\n",
    "        max_feature = range(int(fs_sqrt-3), int(fs_sqrt*1.50), 2)\n",
    "    else:\n",
    "        max_feature = range(int(fs_sqrt), int(fs_sqrt*1.50), 2)\n",
    "    return list(max_feature)\n",
    "\n",
    "\n",
    "# <api>\n",
    "def n_estimators_space(train_size):\n",
    "    \"\"\"\n",
    "     根据特征数量、样本数量初始化参数空间\n",
    "    \"\"\"\n",
    "    if train_size > 2000:\n",
    "        n_estimators_spc = range(50, 301, 20)\n",
    "    else:\n",
    "        n_estimators_spc = range(20, 100, 10)\n",
    "    return list(n_estimators_spc)\n",
    "\n",
    "\n",
    "# <api>\n",
    "def min_samples_leaf_space(train_size):\n",
    "    \"\"\"\n",
    "     根据特征数量、样本数量初始化参数空间\n",
    "    \"\"\"\n",
    "    min_samples_leaf_spc = [50, 100, 200, 500]\n",
    "    return min_samples_leaf_spc\n",
    "\n",
    "\n",
    "# <api>\n",
    "def parameterGridInitialization(trainX):\n",
    "    feature_size = trainX.shape[1] - 1\n",
    "    train_size = trainX.shape[0]\n",
    "    n_estimators_spc = n_estimators_space(train_size)\n",
    "    min_samples_leaf_spc = min_samples_leaf_space(train_size)\n",
    "    max_feature_spc = max_feature_space(feature_size)\n",
    "    param_grid = {'n_estimators': n_estimators_spc,\n",
    "                  'max_features': max_feature_spc,\n",
    "                  'min_samples_leaf': min_samples_leaf_spc}\n",
    "    return param_grid"
   ]
  },
  {
   "cell_type": "code",
   "execution_count": null,
   "metadata": {
    "collapsed": true
   },
   "outputs": [],
   "source": [
    "# <api>\n",
    "def configSpaceInitialization(trainX):\n",
    "    feature_size = trainX.shape[1] - 1\n",
    "    train_size = trainX.shape[0]\n",
    "\n",
    "    if train_size >= 1000:\n",
    "        skopt_grid = {'max_features': (2, feature_size),\n",
    "                      'min_samples_leaf': (50, 500),\n",
    "                      'min_samples_split': (50, 500),\n",
    "                      'n_estimators': (50, 800)}\n",
    "    else:\n",
    "        skopt_grid = {'max_features': (2, feature_size),\n",
    "                      'min_samples_leaf': (20, train_size),\n",
    "                      'min_samples_split': (20, train_size),\n",
    "                      'n_estimators': (20, 200)}\n",
    "    skopt_grid['n_jobs'] = Categorical((-1,))\n",
    "    return skopt_grid"
   ]
  },
  {
   "cell_type": "markdown",
   "metadata": {},
   "source": [
    "## Best RF Model Producer"
   ]
  },
  {
   "cell_type": "code",
   "execution_count": null,
   "metadata": {
    "collapsed": true
   },
   "outputs": [],
   "source": [
    "# <api>\n",
    "def searchBestParamsSkopt(train, labels_train, skopt_grid, search_alg, n_calls=100):\n",
    "    experiment_setting = [(search_alg, skopt_grid, {'n_calls': n_calls})]\n",
    "\n",
    "    experiment_result = modelfit.run_experiments(experiment_setting,\n",
    "                                                 train, labels_train, RandomForestClassifier)\n",
    "\n",
    "    test_accuracy = experiment_result[0]['Test accuracy']\n",
    "    max_index = test_accuracy.index(max(test_accuracy))\n",
    "    best_params = experiment_result[0]['Best parameters'][max_index]\n",
    "    return best_params"
   ]
  },
  {
   "cell_type": "code",
   "execution_count": null,
   "metadata": {
    "collapsed": true
   },
   "outputs": [],
   "source": [
    "# <api>\n",
    "def rfGridSearch(train, labels_train, param_grid, seed=27):\n",
    "    gsearch = GridSearchCV(estimator=RandomForestClassifier(oob_score=True, random_state=seed),\n",
    "                           param_grid=param_grid, scoring='roc_auc',\n",
    "                           n_jobs=-1, iid=False, cv=5)\n",
    "    gsearch.fit(train, labels_train)\n",
    "    best_parameters = gsearch.best_estimator_.get_params()\n",
    "    best_n_estimators = best_parameters['n_estimators']\n",
    "    best_max_features = best_parameters['max_features']\n",
    "    best_min_samples_leaf = best_parameters['min_samples_leaf']\n",
    "    return best_n_estimators, best_max_features, best_min_samples_leaf"
   ]
  },
  {
   "cell_type": "code",
   "execution_count": null,
   "metadata": {
    "collapsed": true
   },
   "outputs": [],
   "source": [
    "# <api>\n",
    "def produceBestRFmodel(traindf, testdf, datamapper, param_grid, fig_path=None, seed=27):\n",
    "    # datamapper transform\n",
    "    train_array = datamapper.transform(traindf)\n",
    "    train = train_array[:, :-1]            # 默认label为最后一列\n",
    "    labels_train = train_array[:, -1]      # 默认label为最后一列\n",
    "    test_array = datamapper.transform(testdf)\n",
    "    test = test_array[:, :-1]\n",
    "    labels_test = test_array[:, -1]\n",
    "\n",
    "    # running grid search to get the best parameter set\n",
    "    best_n_estimators, best_max_features, best_min_samples_leaf = rfGridSearch(train,\n",
    "                                                                               labels_train,\n",
    "                                                                               param_grid,\n",
    "                                                                               seed=seed)\n",
    "\n",
    "    rf_best = RandomForestClassifier(n_estimators=best_n_estimators,\n",
    "                                     min_samples_leaf=best_min_samples_leaf,\n",
    "                                     max_features=best_max_features,\n",
    "                                     oob_score=True,\n",
    "                                     random_state=seed)\n",
    "\n",
    "    alg, train_predictions, train_predprob, cv_score = modelfit.modelfit(rf_best, datamapper,\n",
    "                                                                         train, labels_train,\n",
    "                                                                         test, labels_test,\n",
    "                                                                         fig_path)\n",
    "\n",
    "    accuracy = metrics.accuracy_score(labels_train, train_predictions)\n",
    "    auc = metrics.roc_auc_score(labels_train, train_predprob)\n",
    "    cv_score = [np.mean(cv_score), np.std(cv_score), np.min(cv_score), np.max(cv_score)]\n",
    "\n",
    "    return alg, accuracy, auc, cv_score"
   ]
  },
  {
   "cell_type": "code",
   "execution_count": null,
   "metadata": {
    "collapsed": true
   },
   "outputs": [],
   "source": [
    "def produceBestModel(traindf, testdf, datamapper, param_grid, fig_path=None, seed=27):\n",
    "    return produceBestRFmodel(traindf, testdf, datamapper, param_grid, fig_path, seed)"
   ]
  },
  {
   "cell_type": "code",
   "execution_count": null,
   "metadata": {
    "collapsed": true
   },
   "outputs": [],
   "source": [
    "# <api>\n",
    "def optimizeBestModel(traindf, testdf, datamapper,\n",
    "                      configspace, search_alg,\n",
    "                      fig_path=None, n_calls=100, seed=27):\n",
    "    # datamapper transform\n",
    "    train_array = datamapper.transform(traindf)\n",
    "    train = train_array[:, :-1]            # 默认label为最后一列\n",
    "    labels_train = train_array[:, -1]      # 默认label为最后一列\n",
    "    test_array = datamapper.transform(testdf)\n",
    "    test = test_array[:, :-1]\n",
    "    labels_test = test_array[:, -1]\n",
    "\n",
    "    # running grid search to get the best parameter set\n",
    "    best_params = searchBestParamsSkopt(train, labels_train,\n",
    "                                        configspace, search_alg, n_calls)\n",
    "    # train a randomforest using the best parameter set\n",
    "    rf_best = RandomForestClassifier(n_estimators=best_params['n_estimators'],\n",
    "                                     min_samples_leaf=best_params['min_samples_leaf'],\n",
    "                                     max_features=best_params['max_features'],\n",
    "                                     oob_score=True,\n",
    "                                     random_state=seed)\n",
    "\n",
    "    alg, train_predictions, train_predprob, cv_score = modelfit.modelfit(rf_best, datamapper,\n",
    "                                                                         train, labels_train,\n",
    "                                                                         test, labels_test,\n",
    "                                                                         fig_path)\n",
    "\n",
    "    accuracy = metrics.accuracy_score(labels_train, train_predictions)\n",
    "    auc = metrics.roc_auc_score(labels_train, train_predprob)\n",
    "    cv_score = [np.mean(cv_score), np.std(cv_score), np.min(cv_score), np.max(cv_score)]\n",
    "\n",
    "    return alg, accuracy, auc, cv_score"
   ]
  }
 ],
 "metadata": {
  "kernelspec": {
   "display_name": "Python 2",
   "language": "python",
   "name": "python2"
  },
  "language_info": {
   "codemirror_mode": {
    "name": "ipython",
    "version": 2
   },
   "file_extension": ".py",
   "mimetype": "text/x-python",
   "name": "python",
   "nbconvert_exporter": "python",
   "pygments_lexer": "ipython2",
   "version": "2.7.12"
  }
 },
 "nbformat": 4,
 "nbformat_minor": 1
}
