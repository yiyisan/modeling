{
 "cells": [
  {
   "cell_type": "code",
   "execution_count": 1,
   "metadata": {
    "collapsed": true
   },
   "outputs": [],
   "source": [
    "# <api>\n",
    "import numpy as np\n",
    "import pandas as pd\n",
    "import sklearn\n",
    "from sklearn import cross_validation #Additional scklearn functions\n",
    "\n",
    "import matplotlib\n",
    "import seaborn as sns\n",
    "import matplotlib.pylab as plt\n",
    "\n",
    "try:\n",
    "    from exceptions import Exception\n",
    "except:\n",
    "    pass\n",
    "\n",
    "%matplotlib inline"
   ]
  },
  {
   "cell_type": "code",
   "execution_count": 1,
   "metadata": {
    "collapsed": true
   },
   "outputs": [],
   "source": [
    "# <api>\n",
    "def prepareDataforTraining(transformed, datamapper, train_size=0.75):\n",
    "    traindf, testdf = sklearn.cross_validation.train_test_split(transformed, train_size=train_size)\n",
    "    return traindf, testdf"
   ]
  },
  {
   "cell_type": "code",
   "execution_count": null,
   "metadata": {
    "collapsed": true
   },
   "outputs": [],
   "source": [
    "# <api>\n",
    "def modelfit(alg, datamapper, train, labels_train, test, labels_test, fig_path=None, cv_folds=5, most_importance_n=20):\n",
    "    alg.fit(train, labels_train)\n",
    "    train_predictions = alg.predict(train)\n",
    "    train_predprob = alg.predict_proba(train)[:,1]\n",
    "\n",
    "    cv_score = cross_validation.cross_val_score(alg, train, labels_train, cv=cv_folds, n_jobs=cv_folds, scoring='roc_auc')\n",
    "\n",
    "    feature_list = [mapper.data_ for (name, mapper) in datamapper.features if mapper]\n",
    "    feature_indices = [feature for sublist in feature_list for feature in sublist]\n",
    "    if hasattr(alg, 'feature_importances_'):\n",
    "        feature_importances = pd.DataFrame([alg.feature_importances_], columns=feature_indices)\n",
    "    elif hasattr(alg, 'coef_'):\n",
    "        feature_importances = pd.DataFrame(alg.coef_, columns=feature_indices)\n",
    "    else:\n",
    "        raise Exception('unrecognized algorithm')\n",
    "    sorted_feature_importances = feature_importances.ix[0, :].abs().sort_values(ascending=False).index[:most_importance_n]\n",
    "    feature_importances = feature_importances[sorted_feature_importances]\n",
    "    # Plot barchart\n",
    "    sns.plt.clf()\n",
    "    sns.plt.figure(figsize=(8, 6))\n",
    "    sns.barplot(x=feature_importances.columns, y=np.array(feature_importances)[0,:], label='small')\n",
    "    sns.plt.title('Feature Importances')\n",
    "    sns.plt.xlabel('Feature')\n",
    "    sns.plt.xticks(rotation=90)\n",
    "    sns.plt.ylabel('Feature Importance Score')\n",
    "    sns.plt.tight_layout()\n",
    "    if fig_path is not None:\n",
    "        sns.plt.savefig(fig_path)\n",
    " \n",
    "    return alg, train_predictions, train_predprob, cv_score"
   ]
  }
 ],
 "metadata": {
  "kernelspec": {
   "display_name": "Python 2",
   "language": "python",
   "name": "python2"
  },
  "language_info": {
   "codemirror_mode": {
    "name": "ipython",
    "version": 2
   },
   "file_extension": ".py",
   "mimetype": "text/x-python",
   "name": "python",
   "nbconvert_exporter": "python",
   "pygments_lexer": "ipython2",
   "version": "2.7.12"
  },
  "nav_menu": {},
  "toc": {
   "navigate_menu": true,
   "number_sections": true,
   "sideBar": true,
   "threshold": 6,
   "toc_cell": false,
   "toc_section_display": "block",
   "toc_window_display": false
  }
 },
 "nbformat": 4,
 "nbformat_minor": 1
}
