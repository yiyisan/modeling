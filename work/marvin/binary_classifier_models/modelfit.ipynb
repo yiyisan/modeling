{
 "cells": [
  {
   "cell_type": "code",
   "execution_count": 1,
   "metadata": {
    "collapsed": true
   },
   "outputs": [],
   "source": [
    "# <api>\n",
    "import numpy as np\n",
    "import pandas as pd\n",
    "import sklearn\n",
    "from sklearn import cross_validation  # Additional scklearn functions\n",
    "from enum import Enum\n",
    "import matplotlib\n",
    "import seaborn as sns\n",
    "\n",
    "try:\n",
    "    from exceptions import Exception\n",
    "except:\n",
    "    pass\n",
    "\n",
    "import logging\n",
    "\n",
    "logger = logging.getLogger(__name__)\n",
    "\n",
    "%matplotlib inline"
   ]
  },
  {
   "cell_type": "code",
   "execution_count": null,
   "metadata": {
    "collapsed": true
   },
   "outputs": [],
   "source": [
    "class BinaryClassifier(Enum):\n",
    "    GBM = 'GBM'\n",
    "    XGB = 'XGBOOST'\n",
    "    LGB = 'LightGBM'\n",
    "    RF = 'RF'\n",
    "    LR = 'LR'\n",
    "\n",
    "    @property\n",
    "    def model(self):\n",
    "        if self is BinaryClassifier.GBM:\n",
    "            import work.marvin.binary_classifier_models.bestGbdtModelProducer\n",
    "            return work.marvin.binary_classifier_models.bestGbdtModelProducer\n",
    "        elif self is BinaryClassifier.XGB:\n",
    "            import work.marvin.binary_classifier_models.bestXgboostModelProducer\n",
    "            return work.marvin.binary_classifier_models.bestXgboostModelProducer\n",
    "        elif self is BinaryClassifier.RF:\n",
    "            import work.marvin.binary_classifier_models.bestRfModelProducer\n",
    "            return work.marvin.binary_classifier_models.bestRfModelProducer\n",
    "        elif self is BinaryClassifier.LR:\n",
    "            import work.marvin.binary_classifier_models.bestLrModelProducer\n",
    "            return work.marvin.binary_classifier_models.bestLrModelProducer\n",
    "\n",
    "    def produceBestModel(self, traindf, testdf, dfm, fig_dir):\n",
    "        param_grid = self.configspace(traindf, dfm)\n",
    "        logger.debug(param_grid)\n",
    "        return self.model.produceBestModel(traindf, testdf, dfm, param_grid, fig_dir)\n",
    "\n",
    "    def configspace(self, traindf, dfm):\n",
    "        if self is BinaryClassifier.LR:\n",
    "            return [{'penalty': ['l1', 'l2']}]\n",
    "        else:\n",
    "            train_array = dfm.transform(traindf)\n",
    "            train = train_array[:, :-1]\n",
    "            param_grid = self.model.parameterGridInitialization(train)\n",
    "            return [param_grid] if self is BinaryClassifier.RF else param_grid"
   ]
  },
  {
   "cell_type": "code",
   "execution_count": 1,
   "metadata": {
    "collapsed": true
   },
   "outputs": [],
   "source": [
    "# <api>\n",
    "def prepareDataforTraining(transformed, datamapper, train_size=0.75):\n",
    "    traindf, testdf = sklearn.cross_validation.train_test_split(transformed, train_size=train_size)\n",
    "    return traindf, testdf"
   ]
  },
  {
   "cell_type": "code",
   "execution_count": 1,
   "metadata": {},
   "outputs": [
    {
     "ename": "IndentationError",
     "evalue": "expected an indented block (<ipython-input-1-e6e860b91a9d>, line 39)",
     "output_type": "error",
     "traceback": [
      "\u001b[0;36m  File \u001b[0;32m\"<ipython-input-1-e6e860b91a9d>\"\u001b[0;36m, line \u001b[0;32m39\u001b[0m\n\u001b[0;31m    return alg, train_predictions, train_predprob, cv_score\u001b[0m\n\u001b[0m    ^\u001b[0m\n\u001b[0;31mIndentationError\u001b[0m\u001b[0;31m:\u001b[0m expected an indented block\n"
     ]
    }
   ],
   "source": [
    "# <api>\n",
    "def modelfit(alg, datamapper, train, labels_train, test, labels_test,\n",
    "             fig_path=None, cv_folds=5, most_importance_n=20):\n",
    "    alg.fit(train, labels_train)\n",
    "    train_predictions = alg.predict(train)\n",
    "    train_predprob = alg.predict_proba(train)[:, 1]\n",
    "\n",
    "    cv_score = cross_validation.cross_val_score(alg, train, labels_train,\n",
    "                                                cv=cv_folds, n_jobs=cv_folds, scoring='roc_auc')\n",
    "\n",
    "    feature_list = [mapper.data_ for (name, mapper) in datamapper.features if mapper]\n",
    "    feature_indices = [feature for sublist in feature_list for feature in sublist]\n",
    "    if hasattr(alg, 'feature_importances_'):\n",
    "        feature_importances = pd.DataFrame([alg.feature_importances_], columns=feature_indices)\n",
    "    elif hasattr(alg, 'coef_'):\n",
    "        feature_importances = pd.DataFrame(alg.coef_, columns=feature_indices)\n",
    "    else:\n",
    "        raise Exception('unrecognized algorithm')\n",
    "    sorted_abs_importances = feature_importances.ix[0, :].abs().sort_values(ascending=False)\n",
    "    sorted_feature_importances = sorted_abs_importances.index[:most_importance_n]\n",
    "    feature_importances = feature_importances[sorted_feature_importances]\n",
    "    logger.debug(\"plot feature_importances\")\n",
    "    # Plot barchart\n",
    "    sns.plt.clf()\n",
    "    sns.plt.figure(figsize=(8, 6))\n",
    "    sns.barplot(x=[col.decode(\"utf-8\") for col in feature_importances.columns],\n",
    "                y=np.array(feature_importances)[0, :],\n",
    "                label='small')\n",
    "    sns.plt.title('Feature Importances')\n",
    "    sns.plt.xlabel('Feature')\n",
    "    sns.plt.xticks(rotation=90)\n",
    "    sns.plt.ylabel('Feature Importance Score')\n",
    "    sns.plt.tight_layout()\n",
    "    if fig_path is not None:\n",
    "        try:\n",
    "            sns.plt.savefig(fig_path)\n",
    "        except Exception as e:\n",
    "            raise Exception(\"save fig {} error\".format(fig_path))\n",
    "    return alg, train_predictions, train_predprob, cv_score"
   ]
  },
  {
   "cell_type": "code",
   "execution_count": null,
   "metadata": {
    "collapsed": true
   },
   "outputs": [],
   "source": []
  }
 ],
 "metadata": {
  "kernelspec": {
   "display_name": "Python 2",
   "language": "python",
   "name": "python2"
  },
  "language_info": {
   "codemirror_mode": {
    "name": "ipython",
    "version": 2
   },
   "file_extension": ".py",
   "mimetype": "text/x-python",
   "name": "python",
   "nbconvert_exporter": "python",
   "pygments_lexer": "ipython2",
   "version": "2.7.12"
  },
  "nav_menu": {},
  "toc": {
   "navigate_menu": true,
   "number_sections": true,
   "sideBar": true,
   "threshold": 6,
   "toc_cell": false,
   "toc_section_display": "block",
   "toc_window_display": false
  }
 },
 "nbformat": 4,
 "nbformat_minor": 1
}
