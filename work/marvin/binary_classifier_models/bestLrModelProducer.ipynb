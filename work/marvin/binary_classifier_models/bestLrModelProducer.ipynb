{
 "cells": [
  {
   "cell_type": "code",
   "execution_count": null,
   "metadata": {
    "collapsed": true
   },
   "outputs": [],
   "source": [
    "# <api>\n",
    "\n",
    "import numpy as np\n",
    "from sklearn import metrics\n",
    "from sklearn.linear_model import LogisticRegression\n",
    "from sklearn.grid_search import GridSearchCV\n",
    "\n",
    "import work.marvin.binary_classifier_models.modelfit as modelfit\n",
    "\n",
    "import logging\n",
    "\n",
    "logger = logging.getLogger(__name__)"
   ]
  },
  {
   "cell_type": "code",
   "execution_count": null,
   "metadata": {
    "collapsed": true
   },
   "outputs": [],
   "source": [
    "# <api>\n",
    "def bestModelProducer(df, target, datamapper, fig_path):\n",
    "    \"\"\"\n",
    "    # auto LR model generation, 3 steps:\n",
    "    1. estimate optimal model parameters space for gridsearch, depends on sample size and feature size\n",
    "    2. run gridsearch to find best parameter set\n",
    "    3. train the best LR model using the best parameter set\n",
    "    \"\"\"\n",
    "    traindf, testdf = modelfit.prepareDataforTraining(df, datamapper)\n",
    "\n",
    "    param_grid = {'penalty': ['l1', 'l2']}\n",
    "\n",
    "    bestModel, accuracy, auc, cv_score = produceBestLRmodel(traindf, testdf, datamapper,\n",
    "                                                            param_grid, fig_path)\n",
    "    return bestModel, traindf, testdf, accuracy, auc, cv_score"
   ]
  },
  {
   "cell_type": "code",
   "execution_count": null,
   "metadata": {
    "collapsed": true
   },
   "outputs": [],
   "source": [
    "# <api>\n",
    "def produceBestLRmodel(traindf, testdf, datamapper, param_grid, fig_path=None, seed=27):\n",
    "    # datamapper transform\n",
    "    train_array = datamapper.transform(traindf)\n",
    "    train = train_array[:, :-1]            # 默认label为最后一列\n",
    "    labels_train = train_array[:, -1]      # 默认label为最后一列\n",
    "    test_array = datamapper.transform(testdf)\n",
    "    test = test_array[:, :-1]\n",
    "    labels_test = test_array[:, -1]\n",
    "    logger.debug(\"begin gridsearch\")\n",
    "    # running grid search to get the best parameter set\n",
    "    gsearch = GridSearchCV(estimator=LogisticRegression(random_state=seed),\n",
    "                           param_grid=param_grid,\n",
    "                           scoring='roc_auc', n_jobs=-1, iid=False, cv=5)\n",
    "    gsearch.fit(train, labels_train)\n",
    "    best_parameters = gsearch.best_estimator_.get_params()\n",
    "    best_penalty = best_parameters['penalty']\n",
    "    logger.debug(\"best parameters:{}\".format(best_parameters))\n",
    "    alg = LogisticRegression(penalty=best_penalty, random_state=seed)\n",
    "    alg, train_predictions, train_predprob, cv_score = modelfit.modelfit(alg, datamapper,\n",
    "                                                                         train, labels_train,\n",
    "                                                                         test, labels_test,\n",
    "                                                                         fig_path=fig_path)\n",
    "\n",
    "    accuracy = metrics.accuracy_score(labels_train, train_predictions)\n",
    "    auc = metrics.roc_auc_score(labels_train, train_predprob)\n",
    "    cv_score = [np.mean(cv_score), np.std(cv_score), np.min(cv_score), np.max(cv_score)]\n",
    "    return alg, accuracy, auc, cv_score"
   ]
  },
  {
   "cell_type": "code",
   "execution_count": null,
   "metadata": {
    "collapsed": true
   },
   "outputs": [],
   "source": [
    "def produceBestModel(traindf, testdf, datamapper, param_grid, fig_path=None, seed=27):\n",
    "    return produceBestLRmodel(traindf, testdf, datamapper, param_grid, fig_path, seed)"
   ]
  }
 ],
 "metadata": {
  "kernelspec": {
   "display_name": "Python 3",
   "language": "python",
   "name": "python3"
  },
  "language_info": {
   "codemirror_mode": {
    "name": "ipython",
    "version": 3
   },
   "file_extension": ".py",
   "mimetype": "text/x-python",
   "name": "python",
   "nbconvert_exporter": "python",
   "pygments_lexer": "ipython3",
   "version": "3.5.2"
  }
 },
 "nbformat": 4,
 "nbformat_minor": 1
}
