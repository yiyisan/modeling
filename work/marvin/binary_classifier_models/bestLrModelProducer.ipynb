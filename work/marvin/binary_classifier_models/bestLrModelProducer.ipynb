{
 "cells": [
  {
   "cell_type": "code",
   "execution_count": null,
   "metadata": {
    "collapsed": true
   },
   "outputs": [],
   "source": [
    "# <api>\n",
    "import numpy as np\n",
    "from sklearn.linear_model import LogisticRegression\n",
    "from sklearn.grid_search import GridSearchCV\n",
    "\n",
    "import work.marvin.binary_classifier_models.modelfit as modelfit\n",
    "\n",
    "import logging\n",
    "\n",
    "logger = logging.getLogger(__name__)"
   ]
  },
  {
   "cell_type": "code",
   "execution_count": null,
   "metadata": {
    "collapsed": true
   },
   "outputs": [],
   "source": [
    "# <api>\n",
    "def bestModelProducer(data, target, datamapper, fig_path):\n",
    "    \"\"\"\n",
    "    # auto LR model generation, 3 steps:\n",
    "    1. estimate optimal model parameters space for gridsearch,\n",
    "       depends on sample size and feature size\n",
    "    2. run gridsearch to find best parameter set\n",
    "    3. train the best LR model using the best parameter set\n",
    "    \"\"\"\n",
    "    traindf, testdf = modelfit.prepareDataforTraining(data, datamapper)\n",
    "    param_grid = {'penalty': ['l1', 'l2']}\n",
    "\n",
    "    bestModel, accuracy, auc, cv_score = produceBestLRmodel(traindf, datamapper, target,\n",
    "                                                            param_grid, fig_path)\n",
    "    return bestModel"
   ]
  },
  {
   "cell_type": "code",
   "execution_count": null,
   "metadata": {
    "collapsed": true
   },
   "outputs": [],
   "source": [
    "# <api>\n",
    "def produceBestLRmodel(traindf, datamapper, target, param_grid, fig_path=None, seed=27):\n",
    "    # datamapper transform\n",
    "    train = datamapper.fit_transform(traindf[traindf.columns.difference([target])])\n",
    "    train = np.array(train)\n",
    "    labels_train = traindf[target]\n",
    "\n",
    "    # running grid search to get the best parameter set\n",
    "    gsearch = GridSearchCV(estimator=LogisticRegression(random_state=seed),\n",
    "                           param_grid=param_grid,\n",
    "                           scoring='roc_auc', n_jobs=-1, iid=False, cv=5)\n",
    "    gsearch.fit(train, labels_train)\n",
    "    trace = [{\"params\": grid[0], \"loss\": grid[1]} for grid in gsearch.grid_scores_]\n",
    "    best_parameters = gsearch.best_estimator_.get_params()\n",
    "    best_penalty = best_parameters['penalty']\n",
    "    logger.debug(\"best parameters:{}\".format(best_parameters))\n",
    "    best_lr = LogisticRegression(penalty=best_penalty, random_state=seed)\n",
    "    return best_lr"
   ]
  },
  {
   "cell_type": "code",
   "execution_count": null,
   "metadata": {
    "collapsed": true
   },
   "outputs": [],
   "source": [
    "# <api>\n",
    "def produceBestModel(traindf, datamapper, target, param_grid, fig_path=None, seed=27):\n",
    "    return produceBestLRmodel(traindf, datamapper, target, param_grid, fig_path, seed)"
   ]
  },
  {
   "cell_type": "code",
   "execution_count": null,
   "metadata": {
    "collapsed": true
   },
   "outputs": [],
   "source": [
    "# <api>\n",
    "def optimizeBestModel(traindf, datamapper, target, param_grid=None,\n",
    "                      search_alg=None, fig_path=None, n_calls=None, seed=27):\n",
    "\n",
    "    param_grid = {'penalty': ['l1', 'l2']}\n",
    "    return produceBestLRmodel(traindf, datamapper, target, param_grid,\n",
    "                              fig_path=fig_path, seed=seed)"
   ]
  }
 ],
 "metadata": {
  "kernelspec": {
   "display_name": "Python 2",
   "language": "python",
   "name": "python2"
  },
  "language_info": {
   "codemirror_mode": {
    "name": "ipython",
    "version": 2
   },
   "file_extension": ".py",
   "mimetype": "text/x-python",
   "name": "python",
   "nbconvert_exporter": "python",
   "pygments_lexer": "ipython2",
   "version": "2.7.13"
  }
 },
 "nbformat": 4,
 "nbformat_minor": 1
}
