{
 "cells": [
  {
   "cell_type": "markdown",
   "metadata": {},
   "source": [
    "# PMML  上传测试模块\n",
    "## 通过测试环境的批量测试才可上线"
   ]
  },
  {
   "cell_type": "code",
   "execution_count": null,
   "metadata": {},
   "outputs": [],
   "source": [
    "# <help>"
   ]
  },
  {
   "cell_type": "code",
   "execution_count": null,
   "metadata": {},
   "outputs": [],
   "source": [
    "# <api>\n",
    "import os\n",
    "import pandas as pd\n",
    "import requests\n",
    "\n",
    "try:\n",
    "    from StringIO import StringIO\n",
    "except ImportError:\n",
    "    from io import StringIO\n",
    "\n",
    "try:\n",
    "    from exceptions import Exception\n",
    "except:\n",
    "    pass\n",
    "\n",
    "import logging\n",
    "logger = logging.getLogger(__name__)"
   ]
  },
  {
   "cell_type": "code",
   "execution_count": null,
   "metadata": {},
   "outputs": [],
   "source": [
    "# <api>\n",
    "def upload_pmml(model, url=\"http://openscoring:8080\", name=None):\n",
    "    headers = {\"Content-Type\": \"application/xml\"}\n",
    "    try:\n",
    "        with open(model) as fh:\n",
    "            pmml = fh.read()\n",
    "            if not name:\n",
    "                pathname = os.path.basename(model)\n",
    "                name = pathname.rstrip(\".pmml\")\n",
    "            pmmlresult = requests.put(\"{}/openscoring/model/{}\".format(url, name),\n",
    "                                      data=pmml.encode(\"utf-8\"), headers=headers)\n",
    "            return pmmlresult.json()\n",
    "    except Exception as e:\n",
    "        logger.error(e)\n",
    "        raise Exception('post pmml failed')"
   ]
  },
  {
   "cell_type": "code",
   "execution_count": null,
   "metadata": {},
   "outputs": [],
   "source": [
    "# <api>\n",
    "def simulate_pmml(data, model, target, url=\"http://openscoring:8080\"):\n",
    "    datafields = set(data.columns) - set([target])\n",
    "    testbuffer = StringIO()\n",
    "    data[list(datafields)].to_csv(testbuffer, sep=\",\")\n",
    "    testbuffer.seek(0)\n",
    "    fileresponse = requests.post(\"{}/openscoring/model/{}/csv?delimiterChar=,\".format(url, model),\n",
    "                                 headers={'Content-type': 'text/plain'}, data=testbuffer)\n",
    "    outputbuffer = StringIO()\n",
    "    outputbuffer.write(fileresponse.text)\n",
    "    outputbuffer.seek(0)\n",
    "    testresult = pd.read_csv(outputbuffer)\n",
    "    return pd.concat([testresult[\"probability_1\"], data[target]], axis=1)"
   ]
  },
  {
   "cell_type": "code",
   "execution_count": null,
   "metadata": {},
   "outputs": [],
   "source": [
    "# <api>\n",
    "def simulate_compare_pmml(data, model, target, test_predprob, url=\"http://openscoring:8080\"):\n",
    "    \"\"\"\n",
    "    simulate_compare_pmml, comparing PMML evaluator predprob with evaluted predprob on test dataset\n",
    "    data: test DataFrame\n",
    "    model: model_id in string\n",
    "    target: target data field in string\n",
    "    test_predprob: testset predprob\n",
    "    \"\"\"\n",
    "    batchtest = data.to_dict()\n",
    "    batchbody = [{\"id\": int(idx),\n",
    "                  \"arguments\": {k: batchtest[k][idx].astype(object)\n",
    "                                if type(batchtest[k][idx]).__module__ == 'numpy'\n",
    "                                else batchtest[k][idx]\n",
    "                                for k in batchtest.keys() if k != target},\n",
    "                  \"target\": batchtest[target][idx]}\n",
    "                 for idx in batchtest[target].keys()]\n",
    "    prob_pmml = {}\n",
    "    for testinst in batchbody:\n",
    "        postbody = testinst.copy()\n",
    "        postbody.pop(\"target\")\n",
    "        pmmlresult = requests.post(\"{}/openscoring/model/{}\".format(url, model), json=postbody)\n",
    "        ans = pmmlresult.json()\n",
    "        if ans and ans.get('result'):\n",
    "            prob_pmml.update({postbody['id']: ans['result']['probability_1']})\n",
    "\n",
    "    prob_alg = {data.index[i]: test_predprob[i] for i in range(len(test_predprob))}\n",
    "    count_compare, compare_detail = probability_statistics(prob_pmml, prob_alg, data)\n",
    "    return count_compare, compare_detail"
   ]
  },
  {
   "cell_type": "code",
   "execution_count": null,
   "metadata": {},
   "outputs": [],
   "source": [
    "def undeploy_model(model_id, url=\"http://openscoring:8080\"):\n",
    "    ret = requests.delete('{}/openscoring/model/{}'.format(url, model_id))\n",
    "    if ret.status_code != 200:\n",
    "        raise Exception('Undeploy Error: statusCode={}'.format(ret.status_code))"
   ]
  },
  {
   "cell_type": "code",
   "execution_count": null,
   "metadata": {},
   "outputs": [],
   "source": [
    "# <api>\n",
    "def probability_statistics(prob_pmml, prob_alg, data):\n",
    "    \"\"\"\n",
    "    using probability_statistics to compare pmml with python model\n",
    "    \"\"\"\n",
    "    prob_pmml_approx = {key: round(prob_pmml[key], 4) for key in prob_pmml}\n",
    "    prob_alg_approx = {key: round(prob_alg[key], 4) for key in prob_alg}\n",
    "\n",
    "    num_consist = 0\n",
    "    index_id_list = []\n",
    "    local_prob_list = []\n",
    "    server_prob_list = []\n",
    "\n",
    "    for key in prob_pmml_approx:\n",
    "        if prob_pmml_approx[key] == prob_alg_approx[key]:\n",
    "            num_consist = num_consist + 1\n",
    "        else:\n",
    "            index_id_list.append(key)\n",
    "            local_prob_list.append(prob_alg_approx[key])\n",
    "            server_prob_list.append(prob_pmml_approx[key])\n",
    "    num_inconsist = len(prob_pmml_approx) - num_consist\n",
    "    count_compare = pd.DataFrame({'ConsistentNumber': [num_consist],\n",
    "                                  'InconsistentNumber': [num_inconsist]})\n",
    "    compare_detail = pd.DataFrame({'IndexID': index_id_list,\n",
    "                                   'LocalProbability': local_prob_list,\n",
    "                                   'ServerProbability': server_prob_list})\n",
    "    compare_detail = pd.merge(compare_detail, data,\n",
    "                              how='inner', left_on=['IndexID'], right_index=True)\n",
    "\n",
    "    return count_compare, compare_detail"
   ]
  }
 ],
 "metadata": {
  "kernelspec": {
   "display_name": "Python 2",
   "language": "python",
   "name": "python2"
  },
  "language_info": {
   "codemirror_mode": {
    "name": "ipython",
    "version": 2
   },
   "file_extension": ".py",
   "mimetype": "text/x-python",
   "name": "python",
   "nbconvert_exporter": "python",
   "pygments_lexer": "ipython2",
   "version": "2.7.12"
  }
 },
 "nbformat": 4,
 "nbformat_minor": 1
}
