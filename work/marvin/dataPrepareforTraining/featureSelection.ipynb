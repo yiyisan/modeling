{
 "cells": [
  {
   "cell_type": "code",
   "execution_count": null,
   "metadata": {
    "collapsed": true
   },
   "outputs": [],
   "source": [
    "# <api>\n",
    "import scipy.io\n",
    "import pandas as pd\n",
    "import numpy as np\n",
    "from sklearn.metrics import accuracy_score\n",
    "from sklearn import cross_validation\n",
    "from sklearn import svm\n",
    "from skfeature.function.statistical_based import chi_square\n",
    "from skfeature.function.statistical_based import gini_index\n",
    "from skfeature.function.statistical_based import f_score\n",
    "from skfeature.function.statistical_based import t_score"
   ]
  },
  {
   "cell_type": "code",
   "execution_count": null,
   "metadata": {
    "collapsed": true
   },
   "outputs": [],
   "source": [
    "# <api>\n",
    "def continuousFeatureImpr(data, target):\n",
    "    \"\"\"\n",
    "    feature value can't contain NAN\n",
    "    \"\"\"\n",
    "    data = data.dropna(axis=0, how='any')\n",
    "    feature = data.drop(axis=1, labels=target)\n",
    "    y = np.array(data[target])\n",
    "\n",
    "    feature_names = feature.columns\n",
    "    feature = feature.values\n",
    "\n",
    "    gini_index_score = gini_index.gini_index(feature, y)\n",
    "    f_score_impr = f_score.f_score(feature, y)\n",
    "    t_score_impr = t_score.t_score(feature, y)\n",
    "\n",
    "    feature_impr = pd.DataFrame({'feature_name': feature_names,\n",
    "                                 'gini_index_score': gini_index_score,\n",
    "                                 'f_score': f_score_impr,\n",
    "                                 't_score': t_score_impr})\n",
    "    return feature_impr"
   ]
  }
 ],
 "metadata": {
  "kernelspec": {
   "display_name": "Python 3",
   "language": "python",
   "name": "python3"
  },
  "language_info": {
   "codemirror_mode": {
    "name": "ipython",
    "version": 3
   },
   "file_extension": ".py",
   "mimetype": "text/x-python",
   "name": "python",
   "nbconvert_exporter": "python",
   "pygments_lexer": "ipython3",
   "version": "3.5.2"
  }
 },
 "nbformat": 4,
 "nbformat_minor": 1
}
